{
 "cells": [
  {
   "metadata": {},
   "cell_type": "markdown",
   "source": [
    "# Pre-match pipeline with tagged trials set\n",
    "\n",
    "using the deepseek-r1:14b to tagged the patient and the trials"
   ],
   "id": "10aa3c0e70318ce1"
  },
  {
   "metadata": {},
   "cell_type": "markdown",
   "source": "### install ollama and deepseek",
   "id": "69478ddc2d8d41a3"
  },
  {
   "metadata": {},
   "cell_type": "markdown",
   "source": "ollama",
   "id": "56460cfe7fba98fb"
  },
  {
   "metadata": {},
   "cell_type": "code",
   "outputs": [],
   "execution_count": null,
   "source": "!curl -fsSL https://ollama.com/install.sh | sh",
   "id": "d8d504de913b932f"
  },
  {
   "metadata": {},
   "cell_type": "markdown",
   "source": "deepseek-r1:14b",
   "id": "46dac3bf18326f3"
  },
  {
   "metadata": {},
   "cell_type": "code",
   "outputs": [],
   "execution_count": null,
   "source": "!ollama pull deepseek-r1:14b",
   "id": "deb52fc1759fc8b5"
  },
  {
   "metadata": {},
   "cell_type": "markdown",
   "source": "### load data",
   "id": "14eccde4da8d0452"
  },
  {
   "cell_type": "code",
   "id": "initial_id",
   "metadata": {
    "collapsed": true,
    "ExecuteTime": {
     "end_time": "2025-07-15T06:38:11.474681Z",
     "start_time": "2025-07-15T06:38:10.686419Z"
    }
   },
   "source": [
    "import pandas as pd\n",
    "from fsspec.asyn import private\n",
    "from sqlalchemy import false\n",
    "\n",
    "# patient_df = pd.read_csv('./data/input/Prematch OncoPATH_20250303-07.csv')\n",
    "patient_file = 'OncoPATH Prematch 20250630-0704'\n",
    "trial_file = '06 NCCS_CT dd 10May2025'\n",
    "\n",
    "patient_df = pd.read_excel(f'./data/input/patient/{patient_file}.xlsx')\n",
    "trials_df = pd.read_csv(f'./data/input/trials/{trial_file}.csv')\n",
    "\n",
    "trials_df.columns, patient_df.columns"
   ],
   "outputs": [
    {
     "data": {
      "text/plain": [
       "(Index(['Trial Name', 'Site', 'Stage of cancer', 'Title of Study', 'Trial ID',\n",
       "        'Unnamed: 5', 'Study Description', 'Inclusion Criteria',\n",
       "        'Exclusion Criteria', 'Study Status', 'No. of patients accrued',\n",
       "        'Target number', 'Phase', 'Targeting mutation'],\n",
       "       dtype='object'),\n",
       " Index(['Patient_No', 'Primary', 'Stage', 'Clinical Note'], dtype='object'))"
      ]
     },
     "execution_count": 1,
     "metadata": {},
     "output_type": "execute_result"
    }
   ],
   "execution_count": 1
  },
  {
   "metadata": {},
   "cell_type": "markdown",
   "source": "#### clean trials name",
   "id": "5b489c5a706822e9"
  },
  {
   "metadata": {
    "ExecuteTime": {
     "end_time": "2025-07-15T06:38:11.495534Z",
     "start_time": "2025-07-15T06:38:11.482768Z"
    }
   },
   "cell_type": "code",
   "source": [
    "clear_name = []\n",
    "for i, name in enumerate(trials_df['Trial Name']):\n",
    "    # print(i,name)\n",
    "    name = name.replace('\\n', ' ').replace('\\t', ' ')\n",
    "    print(i,name)\n",
    "    clear_name.append(name)\n",
    "trials_df['Trial Name'] = clear_name\n",
    "trials_df.to_csv(f'./data/input/trials/{trial_file}.csv', index=False)"
   ],
   "id": "9a73e15a1e0abed5",
   "outputs": [
    {
     "name": "stdout",
     "output_type": "stream",
     "text": [
      "0 TAPISTRY\n",
      "1 BAYER 21820\n",
      "2 EBC-129-01\n",
      "3 NVL-520-01\n",
      "4 PRT3789-01 \n",
      "5 NVL-655-01\n",
      "6 PAUF-I\n",
      "7 CAAA603D12101\n",
      "8 PMV-586-101\n",
      "9 ZWI-ZW191-01\n",
      "10 ALE.P02.01\n",
      "11 SGNDV-001\n",
      "12 BT8009-230\n",
      "13 LaPemERLA\n",
      "14 ELEVATE\n",
      "15 INAVO122\n",
      "16 TROPION-Breast04\n",
      "17 CO44657\n",
      "18 J2J-MC-JZLH / EMBER-4\n",
      "19 MK-2870-012\n",
      "20 ASPEN-06\n",
      "21 D9800C00001 / CLARITY-PanTumour01\n",
      "22 CA209-7R9\n",
      "23 AHCC09\n",
      "24 AHCC12\n",
      "25 BO42777 (HORIZON01)\n",
      "26 BI 1479-0008 (BEAMION LUNG-02)\n",
      "27 HMBD-001-103\n",
      "28 D5087C00001 SAFFRON\n",
      "29 20230016 DeLLphi-306\n",
      "30 BO45217 Krascendo 1\n",
      "31 TAS6417-301 \n",
      "32 LUNAR-2 EF-44 \n",
      "33 20230153\n",
      "34 V940-009\n",
      "35 IOV-LUN-202\n",
      "36 M25-274\n",
      "37 GSK 213823\n",
      "38 MK2140-006\n",
      "39 POLAR\n",
      "40 R1979-HM-2299  OLYMPIA-4\n",
      "41 CA073-1020 GOLSEEK-1\n",
      "42 M22-128\n",
      "43 SG-AAA-II-01 / CAAA601A0SG01T\n",
      "44 LDOXIRI-PDAC-01\n",
      "45 CAAA617D12302\n",
      "46 MK-5684-003\n",
      "47 MK5684-004\n",
      "48 CAAA817A12201\n",
      "49 AMG 20230005\n",
      "50 XL092-304\n",
      "51 APL10101 SPARTA\n",
      "52 TPX-0005-01 TRIDENT-1\n",
      "53 NCCS-2018-Phase2-PRL3\n",
      "54 STCC-01\n",
      "55 MK6482-015\n",
      "56 TORL123-002\n"
     ]
    }
   ],
   "execution_count": 2
  },
  {
   "metadata": {},
   "cell_type": "markdown",
   "source": "### summarize the patient profile",
   "id": "f947547d524fa029"
  },
  {
   "metadata": {},
   "cell_type": "markdown",
   "source": "the summarize model",
   "id": "54e3c360094b54dd"
  },
  {
   "metadata": {
    "ExecuteTime": {
     "end_time": "2025-07-15T06:38:11.826738Z",
     "start_time": "2025-07-15T06:38:11.539218Z"
    }
   },
   "cell_type": "code",
   "source": [
    "from ollama import chat\n",
    "from ollama import ChatResponse\n",
    "\n",
    "\n",
    "def Ask_LLM(model, role, query):\n",
    "    response: ChatResponse = chat(model=model,\n",
    "                                  messages=[\n",
    "                                      {'role': 'system', 'content': role},\n",
    "                                      {'role': 'user', 'content': query},\n",
    "                                  ],\n",
    "                                  options={\n",
    "                                      'temperature': 0  # very conservative (good for coding and correct syntax)\n",
    "                                  })\n",
    "\n",
    "    return response.message.content"
   ],
   "id": "50b40ce1ae64c66f",
   "outputs": [],
   "execution_count": 3
  },
  {
   "metadata": {},
   "cell_type": "markdown",
   "source": "summarize profile",
   "id": "9c66acb92422e0b0"
  },
  {
   "metadata": {},
   "cell_type": "markdown",
   "source": "de-identify process",
   "id": "f3d1f3777358810"
  },
  {
   "metadata": {
    "ExecuteTime": {
     "end_time": "2025-07-15T06:38:17.346547Z",
     "start_time": "2025-07-15T06:38:11.835549Z"
    }
   },
   "cell_type": "code",
   "source": [
    "from transformers import pipeline\n",
    "\n",
    "pipe = pipeline(\"token-classification\", model=\"StanfordAIMI/stanford-deidentifier-base\", device=\"cuda\")"
   ],
   "id": "645ae43b4029c935",
   "outputs": [],
   "execution_count": 4
  },
  {
   "metadata": {
    "ExecuteTime": {
     "end_time": "2025-07-15T06:38:17.359303Z",
     "start_time": "2025-07-15T06:38:17.355441Z"
    }
   },
   "cell_type": "code",
   "source": [
    "\n",
    "def aggregate_masks(deindentify_marks):\n",
    "    if len(deindentify_marks) == 0:\n",
    "        return deindentify_marks\n",
    "    new_deindentify_marks = []\n",
    "    # print(deindentify_marks)\n",
    "    new_deindentify_marks.append(deindentify_marks[0])\n",
    "    for mark in deindentify_marks[1:]:\n",
    "        if (mark['index'] - new_deindentify_marks[-1]['index'] == 1) and (\n",
    "                mark['entity'] == new_deindentify_marks[-1]['entity']):\n",
    "            new_deindentify_marks[-1]['end'] = mark['end']\n",
    "            new_deindentify_marks[-1]['index'] = mark['index']\n",
    "        else:\n",
    "            new_deindentify_marks.append(mark)\n",
    "    # print(new_deindentify_marks)\n",
    "    return new_deindentify_marks\n",
    "\n",
    "\n",
    "def deidentify(sentence, deindentify_marks):\n",
    "    sentence = list(sentence)\n",
    "    last_end = 0\n",
    "    marked_sentence = ''\n",
    "    aggregate_deindentify_marks = aggregate_masks(deindentify_marks)\n",
    "    for mark in aggregate_deindentify_marks:\n",
    "        marked_sentence += ''.join(sentence[last_end:mark['start']]) + '<' + mark['entity'] + '>'\n",
    "        last_end = mark['end']\n",
    "    if last_end < len(sentence):\n",
    "        marked_sentence += ''.join(sentence[last_end:])\n",
    "    return ''.join(marked_sentence)"
   ],
   "id": "c52f8d8e2781cc81",
   "outputs": [],
   "execution_count": 5
  },
  {
   "metadata": {},
   "cell_type": "markdown",
   "source": "test de-id",
   "id": "9b9fbbe6fb41202d"
  },
  {
   "metadata": {
    "ExecuteTime": {
     "end_time": "2025-07-15T06:38:17.403094Z",
     "start_time": "2025-07-15T06:38:17.400748Z"
    }
   },
   "cell_type": "code",
   "source": [
    "# summarized_patients = []\n",
    "# de_identify_patients = []\n",
    "# for patient, in zip(patient_df['Clinical Note']):\n",
    "#     de_indentify_result = pipe(patient)\n",
    "#     # print(de_indentify_result)\n",
    "#     de_identify_patients.append(deidentify(patient, de_indentify_result))\n",
    "#     print(de_identify_patients[-1])"
   ],
   "id": "c3bcb7033a10dcd8",
   "outputs": [],
   "execution_count": 6
  },
  {
   "metadata": {},
   "cell_type": "markdown",
   "source": "summarize patient data",
   "id": "205201d708ab8742"
  },
  {
   "metadata": {
    "ExecuteTime": {
     "end_time": "2025-07-15T06:38:17.459364Z",
     "start_time": "2025-07-15T06:38:17.456618Z"
    }
   },
   "cell_type": "code",
   "source": [
    "llm_query_role = 'you are an experienced oncology physician'\n",
    "patient_llm_query_prompt = 'I have a patient which profile is below: {patient_profile}, can you tell the cancer site, cancer stage from it with no more information as the following structure: {structure}, Do not add preceding text before the abstraction, and do not add notes or commentary afterwards. This will not be used for clinical care, so do not write any disclaimers or cautionary notes.'\n",
    "Ner_response_structure = {\n",
    "    \"diagnosis\": 'cancer site',\n",
    "    \"stage\": 'cancer stage'\n",
    "}"
   ],
   "id": "21bced131b861510",
   "outputs": [],
   "execution_count": 7
  },
  {
   "metadata": {
    "ExecuteTime": {
     "end_time": "2025-07-15T06:44:46.526024Z",
     "start_time": "2025-07-15T06:38:17.503299Z"
    }
   },
   "cell_type": "code",
   "source": [
    "summarized_patients = []\n",
    "de_identify_patients = []\n",
    "for patient in patient_df['Clinical Note']:\n",
    "    de_indentify_result = pipe(patient)\n",
    "    de_identify_patients.append(deidentify(patient, de_indentify_result))\n",
    "    # print(deidentify(patient, de_indentify_result))\n",
    "    summarized_patients.append(Ask_LLM(model='deepseek-r1:14b',\n",
    "                                       role=llm_query_role,\n",
    "                                       query=patient_llm_query_prompt.format(patient_profile=patient,\n",
    "                                                                             structure=Ner_response_structure)))\n",
    "\n",
    "patient_df['Clinical Note'] = de_identify_patients"
   ],
   "id": "600e8dcd1f005871",
   "outputs": [
    {
     "name": "stderr",
     "output_type": "stream",
     "text": [
      "You seem to be using the pipelines sequentially on GPU. In order to maximize efficiency please use a dataset\n"
     ]
    }
   ],
   "execution_count": 8
  },
  {
   "metadata": {},
   "cell_type": "markdown",
   "source": "~~summarize trials data~~  now the site and stage are given in the file",
   "id": "e4407f368949e8d1"
  },
  {
   "metadata": {
    "ExecuteTime": {
     "end_time": "2025-07-15T06:44:46.569901Z",
     "start_time": "2025-07-15T06:44:46.566073Z"
    }
   },
   "cell_type": "code",
   "source": [
    "# llm_query_role = 'you are an experienced oncology physician'\n",
    "# trial_llm_query_prompt = '''I have a trials information below: {trial_info}, can you tell the cancer site, cancer stage the trial requiring with no more information as the following structure: {structure}, if there are more than one sub trials, you can show as following structure {more_structure}. Use only double quotes in response. Just answering once using the structure. Do not add preceding text before the abstraction, and do not add notes or commentary afterwards. This will not be used for clinical care, so do not write any disclaimers or cautionary notes.'''\n",
    "# Ner_response_structure = {\n",
    "#     \"diagnosis\": 'cancer site',\n",
    "#     \"stage\": 'cancer stage'\n",
    "# }\n",
    "# multi_structure = {\n",
    "#     \"1\": {\"diagnosis\": \"cancer site\", \"stage\": \"cancer stage\"},\n",
    "#     \"2\": {\"diagnosis\": \"cancer site\", \"stage\": \"cancer stage\"},\n",
    "#     \"3\": {\"diagnosis\": \"cancer site\", \"stage\": \"cancer stage\"},\n",
    "# }"
   ],
   "id": "e2387b54353609dd",
   "outputs": [],
   "execution_count": 9
  },
  {
   "metadata": {
    "ExecuteTime": {
     "end_time": "2025-07-15T06:44:46.777758Z",
     "start_time": "2025-07-15T06:44:46.615706Z"
    }
   },
   "cell_type": "code",
   "source": [
    "# summarized_trials = []\n",
    "# for title, study, inclusion in zip(trials_df['Title of Study'], trials_df['Study Description'],\n",
    "#                                    trials_df['Inclusion Criteria']):\n",
    "#     summarized_trials.append(Ask_LLM(model='deepseek-r1:14b',\n",
    "#                                      role=llm_query_role,\n",
    "#                                      query=trial_llm_query_prompt.format(trial_info=title + study + inclusion,\n",
    "#                                                                          structure=Ner_response_structure,\n",
    "#                                                                          more_structure=multi_structure)))"
   ],
   "id": "9203375072b21042",
   "outputs": [],
   "execution_count": 10
  },
  {
   "metadata": {
    "ExecuteTime": {
     "end_time": "2025-07-15T06:44:46.811527Z",
     "start_time": "2025-07-15T06:44:46.788084Z"
    }
   },
   "cell_type": "code",
   "source": [
    "# for s in summarized_trials:\n",
    "#     print(s)\n",
    "#\n",
    "# trials_df['site_stage_from_deepseek'] = summarized_trials\n",
    "\n",
    "# if not os.path.exists('./data/output/example/'):\n",
    "#     os.makedirs('./data/output/example/')\n",
    "# trials_df.to_csv('./data/output/example/06 NCCS_CT dd 10May2025_deepseek.csv')"
   ],
   "id": "441c36c9f0e33ee2",
   "outputs": [],
   "execution_count": 11
  },
  {
   "metadata": {},
   "cell_type": "markdown",
   "source": "prepare patient data, get the NER result",
   "id": "9503583eb271a8cb"
  },
  {
   "metadata": {
    "ExecuteTime": {
     "end_time": "2025-07-15T06:44:46.850797Z",
     "start_time": "2025-07-15T06:44:46.845762Z"
    }
   },
   "cell_type": "code",
   "source": [
    "import json\n",
    "\n",
    "\n",
    "class Patient():\n",
    "    def __init__(self, cancer_site, cancer_stage, patient_number):\n",
    "        self.site = cancer_site\n",
    "        self.stage = cancer_stage\n",
    "        self.score = dict()\n",
    "        self.mapped_site = []\n",
    "        self.profile = ''\n",
    "        self.patient_number = patient_number\n",
    "\n",
    "    def add_profile(self, profile):\n",
    "        self.profile = profile\n",
    "\n",
    "    def mapping_site(self, mapped_site):\n",
    "        self.mapped_site = mapped_site\n",
    "\n",
    "\n",
    "summarized_patient_json = []\n",
    "patient_list = []\n",
    "\n",
    "for sp, profile, patient_number in zip(summarized_patients, patient_df['Clinical Note'], patient_df['Patient_No']):\n",
    "    # print(sp)\n",
    "    ind_left = sp.find('{')\n",
    "    ind_right = sp.find('}')\n",
    "    sp = sp[ind_left:ind_right + 1]\n",
    "    # print(sp, profile)\n",
    "    patient_json = json.loads(sp.replace(\"'\", '\"').replace(\"\\\\n\", \"\"))\n",
    "    summarized_patient_json.append(patient_json)\n",
    "    patient = Patient(cancer_site=[patient_json['diagnosis']], cancer_stage=[patient_json['stage']], patient_number=patient_number)\n",
    "    patient.add_profile(profile)\n",
    "    patient_list.append(patient)\n",
    "\n",
    "full_patient_profile_template = '''the patient is having {cancer_site}, which is {cancer_stage}, patient's known gene mutations are {gene}, known prior treatments are {treatments}. other related information are {related}'''\n",
    "patient_site_stage_template = '''the patient is having {cancer_site}, which is {cancer_stage}'''"
   ],
   "id": "46a9b2ef43a17aab",
   "outputs": [],
   "execution_count": 12
  },
  {
   "metadata": {},
   "cell_type": "markdown",
   "source": "prepare trial data",
   "id": "24aa4554895fc3ae"
  },
  {
   "metadata": {},
   "cell_type": "markdown",
   "source": "if have old trials info, load and analysis",
   "id": "235759eb9ad4edac"
  },
  {
   "metadata": {
    "ExecuteTime": {
     "end_time": "2025-07-15T06:44:46.900530Z",
     "start_time": "2025-07-15T06:44:46.897527Z"
    }
   },
   "cell_type": "code",
   "source": [
    "# summarized_trials_df = pd.read_csv('./data/output/example/06 NCCS_CT dd 10May2025_deepseek.csv')\n",
    "# summarized_trials_df.columns"
   ],
   "id": "e5fb54a9e9cb7080",
   "outputs": [],
   "execution_count": 13
  },
  {
   "metadata": {
    "ExecuteTime": {
     "end_time": "2025-07-15T06:44:46.958427Z",
     "start_time": "2025-07-15T06:44:46.951988Z"
    }
   },
   "cell_type": "code",
   "source": [
    "import json\n",
    "import re\n",
    "\n",
    "\n",
    "def find_all(string, sub):\n",
    "    start = 0\n",
    "    pos = []\n",
    "    while True:\n",
    "        start = string.find(sub, start)\n",
    "        if start == -1:\n",
    "            return pos\n",
    "        pos.append(start)\n",
    "        start += len(sub)\n",
    "\n",
    "\n",
    "class Trial:\n",
    "    def __init__(self, name, title, patient, phase):\n",
    "        self.name = name\n",
    "        self.title = title\n",
    "        self.required_patients = patient\n",
    "        self.phase = phase\n",
    "\n",
    "    def add_required_patient(self, required_patient):\n",
    "        self.required_patients.append(required_patient)\n",
    "\n",
    "\n",
    "# summarized_trials_json = []\n",
    "trials_list = []\n",
    "phase_one_trial_list, normal_trial_list = [], []\n",
    "for name, title, status, phase, tagged_site, tagged_stage in zip(trials_df['Trial Name'],\n",
    "                                                                 trials_df['Title of Study'],\n",
    "                                                                 trials_df['Study Status'],\n",
    "                                                                 trials_df['Phase'],\n",
    "                                                                 trials_df['Site'],\n",
    "                                                                 trials_df['Stage of cancer']):\n",
    "\n",
    "    if 'Open' not in status:\n",
    "        t = Trial(name=name, title=title, patient=[], phase=phase)\n",
    "        trials_list.append(t)\n",
    "        continue\n",
    "    # st = site_stage[0]\n",
    "    # for st in summarized_trials:\n",
    "    # i = st.find('</think>')\n",
    "    # st = st[i + len('</think>'):]\n",
    "    # print(st)\n",
    "    # ind_left = find_all(st, '{')\n",
    "    # ind_right = find_all(st, '}')\n",
    "    # print(ind_left, ind_right)\n",
    "    t = Trial(name=name, title=title, patient=[], phase=phase)\n",
    "    # print('required: ', len(t.required_patients))\n",
    "    t_site = [item.strip() for item in tagged_site.split(';') if item.strip()]\n",
    "    # print(t_site)\n",
    "    for site in t_site:\n",
    "        tagged_patient_data = {\n",
    "            'diagnosis': site,\n",
    "            'stage': tagged_stage,\n",
    "        }\n",
    "        tagged_patient = Patient(cancer_site=[tagged_patient_data['diagnosis']],\n",
    "                                 cancer_stage=[tagged_patient_data['stage']], patient_number = -1)\n",
    "        t.add_required_patient(tagged_patient)\n",
    "\n",
    "    if phase == '1' or phase == 1:\n",
    "        phase_one_trial_list.append(t)\n",
    "    else:\n",
    "        normal_trial_list.append(t)\n",
    "    trials_list.append(t)\n",
    "\n",
    "    # for p in t.required_patients:\n",
    "        # print(p.site, end='; ')\n",
    "\n",
    "    # print(st)\n",
    "    # summarized_trials_json.append(json.loads(st.replace(\"'\", '\"').replace(\"\\\\n\", \"\")))\n",
    "\n",
    "trials_site_stage_template = '''the trial is asking for patient who has {cancer_site}, which is {cancer_stage}'''"
   ],
   "id": "2837a7c93c9670b0",
   "outputs": [],
   "execution_count": 14
  },
  {
   "metadata": {
    "ExecuteTime": {
     "end_time": "2025-07-15T06:44:47.012848Z",
     "start_time": "2025-07-15T06:44:47.010314Z"
    }
   },
   "cell_type": "code",
   "source": [
    "# for t in phase_one_trial_list:\n",
    "#     print(len(t.required_patients))\n",
    "# print(len(phase_one_trial_list), len(normal_trial_list))"
   ],
   "id": "6f2868d16691c67b",
   "outputs": [],
   "execution_count": 15
  },
  {
   "metadata": {},
   "cell_type": "markdown",
   "source": [
    "### Two way to approach prematch here\n",
    "- I am considering using code to process, based on the word in the tag then can build a dictionary\n",
    "- or we can just transfer the tags and the patient cancer site and stage into vectors to get similarity"
   ],
   "id": "49f7cb726217f5a3"
  },
  {
   "metadata": {},
   "cell_type": "markdown",
   "source": "embedding model",
   "id": "a8275c30718c10b5"
  },
  {
   "metadata": {
    "ExecuteTime": {
     "end_time": "2025-07-15T06:45:15.499825Z",
     "start_time": "2025-07-15T06:44:47.066775Z"
    }
   },
   "cell_type": "code",
   "source": [
    "from sentence_transformers import SentenceTransformer\n",
    "import torch\n",
    "from torch.nn import functional as F\n",
    "\n",
    "embedding_model = SentenceTransformer('ksg-dfci/TrialSpace', trust_remote_code=True)\n",
    "\n",
    "\n",
    "def embedding_out_tensor(sentence):\n",
    "    with torch.no_grad():\n",
    "        return embedding_model.encode(sentence, convert_to_tensor=True)"
   ],
   "id": "ce398fb40a3ac131",
   "outputs": [
    {
     "data": {
      "text/plain": [
       "Loading checkpoint shards:   0%|          | 0/2 [00:00<?, ?it/s]"
      ],
      "application/vnd.jupyter.widget-view+json": {
       "version_major": 2,
       "version_minor": 0,
       "model_id": "e6a06de3d6474d8f85818a702f9c670d"
      }
     },
     "metadata": {},
     "output_type": "display_data"
    }
   ],
   "execution_count": 16
  },
  {
   "metadata": {},
   "cell_type": "markdown",
   "source": [
    "#### code based:\n",
    "1. match the patient to trial based on the tags\n",
    "2. vectorize them(title, study description and inclusion criteria) and rank the prematch list by similarity score"
   ],
   "id": "1818b16e84be3e98"
  },
  {
   "metadata": {},
   "cell_type": "markdown",
   "source": "##### do mapping",
   "id": "be4f3f3e1a679c4d"
  },
  {
   "metadata": {},
   "cell_type": "markdown",
   "source": "load mapping file",
   "id": "f901a3911a5b01d7"
  },
  {
   "metadata": {
    "ExecuteTime": {
     "end_time": "2025-07-15T06:45:15.518336Z",
     "start_time": "2025-07-15T06:45:15.513287Z"
    }
   },
   "cell_type": "code",
   "source": [
    "mapping_df = pd.read_csv('./data/output/Oncotree_list.csv')\n",
    "# mapping_df.columns"
   ],
   "id": "963862a62325d1dd",
   "outputs": [],
   "execution_count": 17
  },
  {
   "metadata": {},
   "cell_type": "markdown",
   "source": [
    "1. separate the cancer site result into words\n",
    "2. match the Code, if any matched, must be the one\n",
    "3. match the Name, find the one that highest number of words matches into and return the Main Type as a result"
   ],
   "id": "e1e021e8e828cdb4"
  },
  {
   "metadata": {
    "ExecuteTime": {
     "end_time": "2025-07-15T06:45:16.236234Z",
     "start_time": "2025-07-15T06:45:15.573159Z"
    }
   },
   "cell_type": "code",
   "source": [
    "def separate_into_words(sentence):\n",
    "    start, end = 0, 0\n",
    "    words = []\n",
    "    for i, c in enumerate(sentence):\n",
    "        end = i\n",
    "        if i == len(sentence) - 1 and start != end:\n",
    "            words.append(sentence[start:])\n",
    "        if c.isalpha() or c.isdigit():\n",
    "            continue\n",
    "        else:\n",
    "            if start == end:\n",
    "                if i < len(sentence) - 1:\n",
    "                    start, end = i + 1, i + 1\n",
    "                else:\n",
    "                    break\n",
    "            else:\n",
    "                words.append(sentence[start:end])\n",
    "                if i < len(sentence) - 1:\n",
    "                    start, end = i + 1, i + 1\n",
    "                else:\n",
    "                    break\n",
    "    return words\n",
    "\n",
    "\n",
    "'''\n",
    "    I'm thinking if there are ways to do match just based on the cancer sites words, so separate the response into words, and find which cancer name contains most the words.\n",
    "    if nothing matched, thought can just return 'cancer' as result\n",
    "'''\n",
    "\n",
    "\n",
    "def mapping_to_maintype(cancer_site):\n",
    "    cancer_words = separate_into_words(cancer_site)\n",
    "    mapped_cancer_type = []\n",
    "    # print(mapped_cancer_type)\n",
    "    max_matched_word_count = 0\n",
    "    for code, name, maintype in zip(mapping_df['Code'], mapping_df['Name'], mapping_df['Maintype']):\n",
    "        word_count = 0\n",
    "        # print(cancer_words, 'match to', name, mapped_cancer_type)\n",
    "        '''matched code means 100% match'''\n",
    "        for word in cancer_words:\n",
    "            if word.upper() == code.upper():\n",
    "                mapped_cancer_type = [maintype]\n",
    "                max_matched_word_count = len(cancer_words)\n",
    "\n",
    "        '''count the match words number'''\n",
    "        for word in cancer_words:\n",
    "            if word.upper() in name.upper():\n",
    "                word_count += 1\n",
    "        if word_count == 0:\n",
    "            # print('continue')\n",
    "            continue\n",
    "        '''higher means better match'''\n",
    "        if word_count > max_matched_word_count:\n",
    "            mapped_cancer_type = [maintype]\n",
    "            max_matched_word_count = word_count\n",
    "        '''keep the equal match'''\n",
    "        if word_count == max_matched_word_count:\n",
    "            if maintype not in mapped_cancer_type:\n",
    "                # print(mapped_cancer_type)\n",
    "                mapped_cancer_type.append(maintype)\n",
    "\n",
    "    if len(mapped_cancer_type) == 0:\n",
    "        mapped_cancer_type = ['Cancer']\n",
    "    return mapped_cancer_type\n",
    "\n",
    "\n",
    "'''mapping the patient and the trials'''\n",
    "patient_origin_site, patient_mapped_site = [], []\n",
    "for i, patient in enumerate(patient_list):\n",
    "    mapped_site = []\n",
    "    for site in patient.site:\n",
    "        # print(i, site)\n",
    "        mapped_site += mapping_to_maintype(site)\n",
    "        # print(mapped_site)\n",
    "    patient_list[i].mapping_site(mapped_site)\n",
    "    patient_origin_site.append(patient.site)\n",
    "    patient_mapped_site.append(mapped_site)\n",
    "\n",
    "patient_df['origin site'] = patient_origin_site\n",
    "patient_df['mapped site'] = patient_mapped_site\n",
    "\n",
    "# if not os.path.exists('./data/output/prematch_exam/'):\n",
    "#     os.makedirs('./data/output/prematch_exam/')\n",
    "patient_df.to_csv(f'./data/output/prematch_exam/{patient_file}_mapped.csv', index=False)\n",
    "\n",
    "for i, trial in enumerate(phase_one_trial_list):\n",
    "    for p, patient in enumerate(phase_one_trial_list[i].required_patients):\n",
    "        mapped_site = []\n",
    "        for site in patient.site:\n",
    "            # print(i, site)\n",
    "            mapped_site += mapping_to_maintype(site)\n",
    "            # print(mapped_site)\n",
    "        phase_one_trial_list[i].required_patients[p].mapping_site(mapped_site)\n",
    "\n",
    "for i, trial in enumerate(normal_trial_list):\n",
    "    for p, patient in enumerate(normal_trial_list[i].required_patients):\n",
    "        mapped_site = []\n",
    "        for site in patient.site:\n",
    "            # print(i, site)\n",
    "            mapped_site += mapping_to_maintype(site)\n",
    "            # print(mapped_site)\n",
    "        normal_trial_list[i].required_patients[p].mapping_site(mapped_site)\n",
    "\n",
    "trials_origin_site, trials_mapped_site = [], []\n",
    "for i, trial in enumerate(trials_list):\n",
    "    trial_patient_origin_site, trial_patient_mapped_site = [], []\n",
    "    for p, patient in enumerate(trials_list[i].required_patients):\n",
    "        mapped_site = []\n",
    "        for site in patient.site:\n",
    "            mapped_site += mapping_to_maintype(site)\n",
    "        trials_list[i].required_patients[p].mapping_site(mapped_site)\n",
    "        trial_patient_origin_site += patient.site\n",
    "        trial_patient_mapped_site += mapped_site\n",
    "    trials_origin_site.append(trial_patient_origin_site)\n",
    "    trials_mapped_site.append(trial_patient_mapped_site)\n",
    "\n",
    "trials_df['origin site'] = trials_origin_site\n",
    "trials_df['mapped site'] = trials_mapped_site\n",
    "# if not os.path.exists('./data/output/example/'):\n",
    "#     os.makedirs('./data/output/example/')\n",
    "trials_df.to_csv(f'./data/output/example/{trial_file}_deepseek_mapped.csv', index=False)"
   ],
   "id": "814b629fc306d715",
   "outputs": [],
   "execution_count": 18
  },
  {
   "metadata": {
    "ExecuteTime": {
     "end_time": "2025-07-15T06:45:16.244164Z",
     "start_time": "2025-07-15T06:45:16.241186Z"
    }
   },
   "cell_type": "code",
   "source": "# mapping_to_maintype('solid tumor'), mapping_to_maintype('Solid tumor'), mapping_to_maintype('Solid Tumor')",
   "id": "54e453bcbf850408",
   "outputs": [],
   "execution_count": 19
  },
  {
   "metadata": {
    "ExecuteTime": {
     "end_time": "2025-07-15T06:45:16.294577Z",
     "start_time": "2025-07-15T06:45:16.292366Z"
    }
   },
   "cell_type": "code",
   "source": [
    "# mapped_site = []\n",
    "# for site in patient_list[0].site:\n",
    "#     # print(site)\n",
    "#     mapped_site += mapping_to_maintype(site)\n",
    "#     # print(mapped_site)\n",
    "# patient_list[0].mapping_site(mapped_site)\n",
    "# print(patient_list[0].mapped_site, len(patient_list[0].mapped_site))"
   ],
   "id": "1e5a48aca444cae3",
   "outputs": [],
   "execution_count": 20
  },
  {
   "metadata": {},
   "cell_type": "markdown",
   "source": "do match",
   "id": "c17f93a39ba3a1db"
  },
  {
   "metadata": {
    "ExecuteTime": {
     "end_time": "2025-07-15T06:45:16.344111Z",
     "start_time": "2025-07-15T06:45:16.340702Z"
    }
   },
   "cell_type": "code",
   "source": [
    "llm_query_role = 'you are an experienced oncology physician'\n",
    "patient_gene_mutation_llm_query_prompt = '''I have a patient which profile is below: {patient_profile}, tell the gene mutation the patient has from it. if it doesn't have, just return NaN. Do not add preceding text before the abstraction, and do not add notes or commentary afterwards. This will not be used for clinical care, so do not write any disclaimers or cautionary notes.'''\n",
    "# Ner_response_structure = {\n",
    "#     \"diagnosis\": 'cancer site',\n",
    "#     \"stage\": 'cancer stage'\n",
    "# }\n",
    "# summarized_patients = []\n",
    "# for patient in zip(patient_df['Clinical Note']):\n",
    "#     summarized_patients.append(Ask_LLM(model='deepseek-r1:14b',\n",
    "#                                        role=llm_query_role,\n",
    "#                                        query=patient_llm_query_prompt.format(patient_profile=patient,\n",
    "#                                                                              structure=Ner_response_structure)))"
   ],
   "id": "b0bf7c5bc5ceb40d",
   "outputs": [],
   "execution_count": 21
  },
  {
   "metadata": {
    "ExecuteTime": {
     "end_time": "2025-07-15T06:53:48.115415Z",
     "start_time": "2025-07-15T06:45:16.484561Z"
    }
   },
   "cell_type": "code",
   "source": [
    "import os\n",
    "\n",
    "def get_top(tup, number):\n",
    "    key = []\n",
    "    tup = sorted(tup, key=lambda x: x[0], reverse=True)[:number]\n",
    "    for t in tup:\n",
    "        key.append(t[1])\n",
    "    return key\n",
    "\n",
    "\n",
    "def range_trials(tup):\n",
    "    key = []\n",
    "    tup = sorted(tup, key=lambda x: x[0], reverse=True)\n",
    "    for t in tup:\n",
    "        key.append(str(t[1]))\n",
    "    return key\n",
    "\n",
    "\n",
    "def prematch_trials(trial_list, patient):\n",
    "    pending_trials = []\n",
    "    # print(len(pending_trials))\n",
    "    for trial in tqdm(trial_list):\n",
    "        patient_mapped_site = patient.mapped_site\n",
    "        match_plag = False\n",
    "        for required_patient in trial.required_patients:\n",
    "            for pmappedsite in patient_mapped_site:\n",
    "                if pmappedsite in required_patient.mapped_site:\n",
    "                    # print(pmappedsite, required_patient.mapped_site)\n",
    "                    match_plag = True\n",
    "                    break\n",
    "        if match_plag:\n",
    "            # print('patient info: ', patient_mapped_site, patient.stage)\n",
    "            trials_mapped_site, trials_stage = [], []\n",
    "            for required_patient in trial.required_patients:\n",
    "                trials_mapped_site += required_patient.mapped_site\n",
    "                trials_stage += required_patient.stage\n",
    "            # print('trials info: ', trials_mapped_site, trials_stage)\n",
    "            pending_trials.append(trial)\n",
    "    return pending_trials\n",
    "\n",
    "\n",
    "from tqdm import tqdm\n",
    "\n",
    "prematched_trial_for_patient = dict()\n",
    "patient_id, patient_profiles, ctp = [], [], []\n",
    "for patient in patient_list:\n",
    "    patient_number = patient.patient_number\n",
    "    print('patient No.', patient_number)\n",
    "    '''code match the trials'''\n",
    "    # separate the trial into phase_one and normal, do the match separately\n",
    "    pending_trials = []\n",
    "\n",
    "    pending_phase_one_trials = prematch_trials(trial_list=phase_one_trial_list, patient=patient)\n",
    "    pending_normal_trials = prematch_trials(trial_list=normal_trial_list, patient=patient)\n",
    "\n",
    "    # if the trials more than 10 or no gene mutation, just use the normal trials.\n",
    "    gene_mutation_response = Ask_LLM(model='deepseek-r1:14b',\n",
    "                                     role=llm_query_role,\n",
    "                                     query=patient_gene_mutation_llm_query_prompt.format(patient_profile=patient))\n",
    "    i = gene_mutation_response.find('</think>')\n",
    "    gene_mutation = gene_mutation_response[i + len('</think>'):]\n",
    "\n",
    "    # pending_trials = pending_normal_trials\n",
    "\n",
    "    if 'nan' in gene_mutation.lower():\n",
    "        pending_trials = pending_normal_trials + pending_phase_one_trials\n",
    "    else:\n",
    "        if len(pending_normal_trials) + len(pending_phase_one_trials) > 10:\n",
    "            pending_trials = pending_normal_trials\n",
    "        else:\n",
    "            pending_trials = pending_normal_trials + pending_phase_one_trials\n",
    "\n",
    "    # if len(pending_normal_trials) + len(pending_phase_one_trials) > 10:\n",
    "    #     pending_trials = pending_normal_trials\n",
    "    # else:\n",
    "    #     if 'NaN' in gene_mutation:\n",
    "    #         pending_trials = pending_normal_trials\n",
    "    #     else:\n",
    "    #         pending_trials = pending_normal_trials + pending_phase_one_trials\n",
    "\n",
    "    '''get score'''\n",
    "    score_list = []\n",
    "    patient_sentence = patient_site_stage_template.format(cancer_site=patient.site,\n",
    "                                                          cancer_stage=patient.stage)\n",
    "    print('matched trials number:', len(pending_trials))\n",
    "    for trial in tqdm(pending_trials):\n",
    "        trial_required_sentence = []\n",
    "        # print(len(trial.required_patients))\n",
    "        for required_patient in trial.required_patients:\n",
    "            trial_required_sentence.append(trials_site_stage_template.format(cancer_site=required_patient.site,\n",
    "                                                                             cancer_stage=required_patient.stage))\n",
    "        score = max(F.cosine_similarity(embedding_out_tensor(patient_sentence),\n",
    "                                        embedding_out_tensor(trial_required_sentence)).cpu().numpy())\n",
    "        score_list.append((score, trial.name))\n",
    "\n",
    "    prematched_trial_name = range_trials(score_list)\n",
    "    # print(prematched_trial_name)\n",
    "\n",
    "    prematched_trial_name_str = ','.join(prematched_trial_name)\n",
    "\n",
    "    patient_id.append('Patient' + str(patient_number))\n",
    "    patient_profiles.append(patient.profile)\n",
    "    ctp.append(prematched_trial_name_str)\n",
    "\n",
    "    this_patient_dataframe = pd.DataFrame()\n",
    "    this_patient_dataframe['no.'] = [0]\n",
    "    this_patient_dataframe['Patient ID'] = ['Patient' + str(patient_number)]\n",
    "    this_patient_dataframe['Patient Profile'] = [patient.profile]\n",
    "    this_patient_dataframe['Trial Name'] = [prematched_trial_name_str]\n",
    "    per_patient_save_path = f'./data/output/prematch/{patient_file}/'\n",
    "    if not os.path.exists(per_patient_save_path):\n",
    "        os.makedirs(per_patient_save_path)\n",
    "    this_patient_dataframe.to_csv(per_patient_save_path + f'{patient_file} patient {patient_number} prematch result' + '.csv')\n",
    "\n",
    "prematched_trial_for_patient['Patient ID'] = patient_id\n",
    "prematched_trial_for_patient['Patient Profile'] = patient_profiles\n",
    "prematched_trial_for_patient['Trial Name'] = ctp\n",
    "prematched_trial_for_patient_df = pd.DataFrame(prematched_trial_for_patient)\n",
    "prematched_trial_for_patient_df.to_csv(f'./data/output/prematch/{patient_file}.csv',\n",
    "                                       index=False)"
   ],
   "id": "d513c7a70c680133",
   "outputs": [
    {
     "name": "stdout",
     "output_type": "stream",
     "text": [
      "patient No. 0\n"
     ]
    },
    {
     "name": "stderr",
     "output_type": "stream",
     "text": [
      "100%|██████████| 8/8 [00:00<00:00, 17933.96it/s]\n",
      "100%|██████████| 46/46 [00:00<00:00, 354014.65it/s]\n"
     ]
    },
    {
     "name": "stdout",
     "output_type": "stream",
     "text": [
      "matched trials number: 0\n"
     ]
    },
    {
     "name": "stderr",
     "output_type": "stream",
     "text": [
      "0it [00:00, ?it/s]\n"
     ]
    },
    {
     "name": "stdout",
     "output_type": "stream",
     "text": [
      "patient No. 1\n"
     ]
    },
    {
     "name": "stderr",
     "output_type": "stream",
     "text": [
      "100%|██████████| 8/8 [00:00<00:00, 72628.64it/s]\n",
      "100%|██████████| 46/46 [00:00<00:00, 279215.61it/s]\n"
     ]
    },
    {
     "name": "stdout",
     "output_type": "stream",
     "text": [
      "matched trials number: 25\n"
     ]
    },
    {
     "name": "stderr",
     "output_type": "stream",
     "text": [
      "100%|██████████| 25/25 [00:08<00:00,  3.10it/s]\n"
     ]
    },
    {
     "name": "stdout",
     "output_type": "stream",
     "text": [
      "patient No. 2\n"
     ]
    },
    {
     "name": "stderr",
     "output_type": "stream",
     "text": [
      "100%|██████████| 8/8 [00:00<00:00, 105186.31it/s]\n",
      "100%|██████████| 46/46 [00:00<00:00, 194493.94it/s]\n"
     ]
    },
    {
     "name": "stdout",
     "output_type": "stream",
     "text": [
      "matched trials number: 47\n"
     ]
    },
    {
     "name": "stderr",
     "output_type": "stream",
     "text": [
      "100%|██████████| 47/47 [00:08<00:00,  5.63it/s]\n"
     ]
    },
    {
     "name": "stdout",
     "output_type": "stream",
     "text": [
      "patient No. 3\n"
     ]
    },
    {
     "name": "stderr",
     "output_type": "stream",
     "text": [
      "100%|██████████| 8/8 [00:00<00:00, 101680.10it/s]\n",
      "100%|██████████| 46/46 [00:00<00:00, 135776.20it/s]\n"
     ]
    },
    {
     "name": "stdout",
     "output_type": "stream",
     "text": [
      "matched trials number: 6\n"
     ]
    },
    {
     "name": "stderr",
     "output_type": "stream",
     "text": [
      "100%|██████████| 6/6 [00:04<00:00,  1.21it/s]\n"
     ]
    },
    {
     "name": "stdout",
     "output_type": "stream",
     "text": [
      "patient No. 4\n"
     ]
    },
    {
     "name": "stderr",
     "output_type": "stream",
     "text": [
      "100%|██████████| 8/8 [00:00<00:00, 114912.44it/s]\n",
      "100%|██████████| 46/46 [00:00<00:00, 225394.84it/s]\n"
     ]
    },
    {
     "name": "stdout",
     "output_type": "stream",
     "text": [
      "matched trials number: 7\n"
     ]
    },
    {
     "name": "stderr",
     "output_type": "stream",
     "text": [
      "100%|██████████| 7/7 [00:05<00:00,  1.32it/s]\n"
     ]
    },
    {
     "name": "stdout",
     "output_type": "stream",
     "text": [
      "patient No. 5\n"
     ]
    },
    {
     "name": "stderr",
     "output_type": "stream",
     "text": [
      "100%|██████████| 8/8 [00:00<00:00, 95055.05it/s]\n",
      "100%|██████████| 46/46 [00:00<00:00, 29317.43it/s]\n"
     ]
    },
    {
     "name": "stdout",
     "output_type": "stream",
     "text": [
      "matched trials number: 22\n"
     ]
    },
    {
     "name": "stderr",
     "output_type": "stream",
     "text": [
      "100%|██████████| 22/22 [00:05<00:00,  4.02it/s]\n"
     ]
    },
    {
     "name": "stdout",
     "output_type": "stream",
     "text": [
      "patient No. 6\n"
     ]
    },
    {
     "name": "stderr",
     "output_type": "stream",
     "text": [
      "100%|██████████| 8/8 [00:00<00:00, 66974.91it/s]\n",
      "100%|██████████| 46/46 [00:00<00:00, 255547.00it/s]\n"
     ]
    },
    {
     "name": "stdout",
     "output_type": "stream",
     "text": [
      "matched trials number: 11\n"
     ]
    },
    {
     "name": "stderr",
     "output_type": "stream",
     "text": [
      "100%|██████████| 11/11 [00:05<00:00,  2.07it/s]\n"
     ]
    },
    {
     "name": "stdout",
     "output_type": "stream",
     "text": [
      "patient No. 7\n"
     ]
    },
    {
     "name": "stderr",
     "output_type": "stream",
     "text": [
      "100%|██████████| 8/8 [00:00<00:00, 99273.47it/s]\n",
      "100%|██████████| 46/46 [00:00<00:00, 218750.55it/s]\n"
     ]
    },
    {
     "name": "stdout",
     "output_type": "stream",
     "text": [
      "matched trials number: 6\n"
     ]
    },
    {
     "name": "stderr",
     "output_type": "stream",
     "text": [
      "100%|██████████| 6/6 [00:04<00:00,  1.23it/s]\n"
     ]
    },
    {
     "name": "stdout",
     "output_type": "stream",
     "text": [
      "patient No. 8\n"
     ]
    },
    {
     "name": "stderr",
     "output_type": "stream",
     "text": [
      "100%|██████████| 8/8 [00:00<00:00, 82850.45it/s]\n",
      "100%|██████████| 46/46 [00:00<00:00, 130716.79it/s]\n"
     ]
    },
    {
     "name": "stdout",
     "output_type": "stream",
     "text": [
      "matched trials number: 7\n"
     ]
    },
    {
     "name": "stderr",
     "output_type": "stream",
     "text": [
      "100%|██████████| 7/7 [00:05<00:00,  1.31it/s]\n"
     ]
    },
    {
     "name": "stdout",
     "output_type": "stream",
     "text": [
      "patient No. 9\n"
     ]
    },
    {
     "name": "stderr",
     "output_type": "stream",
     "text": [
      "100%|██████████| 8/8 [00:00<00:00, 118987.35it/s]\n",
      "100%|██████████| 46/46 [00:00<00:00, 264298.61it/s]\n"
     ]
    },
    {
     "name": "stdout",
     "output_type": "stream",
     "text": [
      "matched trials number: 37\n"
     ]
    },
    {
     "name": "stderr",
     "output_type": "stream",
     "text": [
      "100%|██████████| 37/37 [00:07<00:00,  5.08it/s]\n"
     ]
    },
    {
     "name": "stdout",
     "output_type": "stream",
     "text": [
      "patient No. 10\n"
     ]
    },
    {
     "name": "stderr",
     "output_type": "stream",
     "text": [
      "100%|██████████| 8/8 [00:00<00:00, 98112.37it/s]\n",
      "100%|██████████| 46/46 [00:00<00:00, 274059.64it/s]\n"
     ]
    },
    {
     "name": "stdout",
     "output_type": "stream",
     "text": [
      "matched trials number: 6\n"
     ]
    },
    {
     "name": "stderr",
     "output_type": "stream",
     "text": [
      "100%|██████████| 6/6 [00:04<00:00,  1.21it/s]\n"
     ]
    },
    {
     "name": "stdout",
     "output_type": "stream",
     "text": [
      "patient No. 11\n"
     ]
    },
    {
     "name": "stderr",
     "output_type": "stream",
     "text": [
      "100%|██████████| 8/8 [00:00<00:00, 87838.83it/s]\n",
      "100%|██████████| 46/46 [00:00<00:00, 263937.05it/s]\n"
     ]
    },
    {
     "name": "stdout",
     "output_type": "stream",
     "text": [
      "matched trials number: 9\n"
     ]
    },
    {
     "name": "stderr",
     "output_type": "stream",
     "text": [
      "100%|██████████| 9/9 [00:05<00:00,  1.74it/s]\n"
     ]
    },
    {
     "name": "stdout",
     "output_type": "stream",
     "text": [
      "patient No. 12\n"
     ]
    },
    {
     "name": "stderr",
     "output_type": "stream",
     "text": [
      "100%|██████████| 8/8 [00:00<00:00, 28556.96it/s]\n",
      "100%|██████████| 46/46 [00:00<00:00, 223825.97it/s]\n"
     ]
    },
    {
     "name": "stdout",
     "output_type": "stream",
     "text": [
      "matched trials number: 24\n"
     ]
    },
    {
     "name": "stderr",
     "output_type": "stream",
     "text": [
      "100%|██████████| 24/24 [00:06<00:00,  3.74it/s]\n"
     ]
    },
    {
     "name": "stdout",
     "output_type": "stream",
     "text": [
      "patient No. 13\n"
     ]
    },
    {
     "name": "stderr",
     "output_type": "stream",
     "text": [
      "100%|██████████| 8/8 [00:00<00:00, 79137.81it/s]\n",
      "100%|██████████| 46/46 [00:00<00:00, 294561.81it/s]\n"
     ]
    },
    {
     "name": "stdout",
     "output_type": "stream",
     "text": [
      "matched trials number: 26\n"
     ]
    },
    {
     "name": "stderr",
     "output_type": "stream",
     "text": [
      "100%|██████████| 26/26 [00:06<00:00,  3.98it/s]\n"
     ]
    },
    {
     "name": "stdout",
     "output_type": "stream",
     "text": [
      "patient No. 14\n"
     ]
    },
    {
     "name": "stderr",
     "output_type": "stream",
     "text": [
      "100%|██████████| 8/8 [00:00<00:00, 94254.02it/s]\n",
      "100%|██████████| 46/46 [00:00<00:00, 159321.21it/s]\n"
     ]
    },
    {
     "name": "stdout",
     "output_type": "stream",
     "text": [
      "matched trials number: 4\n"
     ]
    },
    {
     "name": "stderr",
     "output_type": "stream",
     "text": [
      "100%|██████████| 4/4 [00:04<00:00,  1.18s/it]\n"
     ]
    },
    {
     "name": "stdout",
     "output_type": "stream",
     "text": [
      "patient No. 15\n"
     ]
    },
    {
     "name": "stderr",
     "output_type": "stream",
     "text": [
      "100%|██████████| 8/8 [00:00<00:00, 47460.30it/s]\n",
      "100%|██████████| 46/46 [00:00<00:00, 158666.11it/s]\n"
     ]
    },
    {
     "name": "stdout",
     "output_type": "stream",
     "text": [
      "matched trials number: 4\n"
     ]
    },
    {
     "name": "stderr",
     "output_type": "stream",
     "text": [
      "100%|██████████| 4/4 [00:04<00:00,  1.25s/it]\n"
     ]
    },
    {
     "name": "stdout",
     "output_type": "stream",
     "text": [
      "patient No. 16\n"
     ]
    },
    {
     "name": "stderr",
     "output_type": "stream",
     "text": [
      "100%|██████████| 8/8 [00:00<00:00, 147168.56it/s]\n",
      "100%|██████████| 46/46 [00:00<00:00, 297285.03it/s]\n"
     ]
    },
    {
     "name": "stdout",
     "output_type": "stream",
     "text": [
      "matched trials number: 9\n"
     ]
    },
    {
     "name": "stderr",
     "output_type": "stream",
     "text": [
      "100%|██████████| 9/9 [00:05<00:00,  1.71it/s]\n"
     ]
    },
    {
     "name": "stdout",
     "output_type": "stream",
     "text": [
      "patient No. 17\n"
     ]
    },
    {
     "name": "stderr",
     "output_type": "stream",
     "text": [
      "100%|██████████| 8/8 [00:00<00:00, 53859.44it/s]\n",
      "100%|██████████| 46/46 [00:00<00:00, 157629.07it/s]\n"
     ]
    },
    {
     "name": "stdout",
     "output_type": "stream",
     "text": [
      "matched trials number: 47\n"
     ]
    },
    {
     "name": "stderr",
     "output_type": "stream",
     "text": [
      "100%|██████████| 47/47 [00:07<00:00,  5.96it/s]\n"
     ]
    },
    {
     "name": "stdout",
     "output_type": "stream",
     "text": [
      "patient No. 18\n"
     ]
    },
    {
     "name": "stderr",
     "output_type": "stream",
     "text": [
      "100%|██████████| 8/8 [00:00<00:00, 85598.04it/s]\n",
      "100%|██████████| 46/46 [00:00<00:00, 154103.82it/s]\n"
     ]
    },
    {
     "name": "stdout",
     "output_type": "stream",
     "text": [
      "matched trials number: 9\n"
     ]
    },
    {
     "name": "stderr",
     "output_type": "stream",
     "text": [
      "100%|██████████| 9/9 [00:05<00:00,  1.75it/s]\n"
     ]
    },
    {
     "name": "stdout",
     "output_type": "stream",
     "text": [
      "patient No. 19\n"
     ]
    },
    {
     "name": "stderr",
     "output_type": "stream",
     "text": [
      "100%|██████████| 8/8 [00:00<00:00, 85816.96it/s]\n",
      "100%|██████████| 46/46 [00:00<00:00, 182016.97it/s]\n"
     ]
    },
    {
     "name": "stdout",
     "output_type": "stream",
     "text": [
      "matched trials number: 24\n"
     ]
    },
    {
     "name": "stderr",
     "output_type": "stream",
     "text": [
      "100%|██████████| 24/24 [00:06<00:00,  3.79it/s]\n"
     ]
    },
    {
     "name": "stdout",
     "output_type": "stream",
     "text": [
      "patient No. 20\n"
     ]
    },
    {
     "name": "stderr",
     "output_type": "stream",
     "text": [
      "100%|██████████| 8/8 [00:00<00:00, 93206.76it/s]\n",
      "100%|██████████| 46/46 [00:00<00:00, 269843.33it/s]\n"
     ]
    },
    {
     "name": "stdout",
     "output_type": "stream",
     "text": [
      "matched trials number: 9\n"
     ]
    },
    {
     "name": "stderr",
     "output_type": "stream",
     "text": [
      "100%|██████████| 9/9 [00:05<00:00,  1.72it/s]\n"
     ]
    },
    {
     "name": "stdout",
     "output_type": "stream",
     "text": [
      "patient No. 21\n"
     ]
    },
    {
     "name": "stderr",
     "output_type": "stream",
     "text": [
      "100%|██████████| 8/8 [00:00<00:00, 116508.44it/s]\n",
      "100%|██████████| 46/46 [00:00<00:00, 262858.29it/s]\n"
     ]
    },
    {
     "name": "stdout",
     "output_type": "stream",
     "text": [
      "matched trials number: 4\n"
     ]
    },
    {
     "name": "stderr",
     "output_type": "stream",
     "text": [
      "100%|██████████| 4/4 [00:04<00:00,  1.22s/it]\n"
     ]
    },
    {
     "name": "stdout",
     "output_type": "stream",
     "text": [
      "patient No. 22\n"
     ]
    },
    {
     "name": "stderr",
     "output_type": "stream",
     "text": [
      "100%|██████████| 8/8 [00:00<00:00, 105186.31it/s]\n",
      "100%|██████████| 46/46 [00:00<00:00, 296827.67it/s]\n"
     ]
    },
    {
     "name": "stdout",
     "output_type": "stream",
     "text": [
      "matched trials number: 5\n"
     ]
    },
    {
     "name": "stderr",
     "output_type": "stream",
     "text": [
      "100%|██████████| 5/5 [00:04<00:00,  1.04it/s]\n"
     ]
    },
    {
     "name": "stdout",
     "output_type": "stream",
     "text": [
      "patient No. 23\n"
     ]
    },
    {
     "name": "stderr",
     "output_type": "stream",
     "text": [
      "100%|██████████| 8/8 [00:00<00:00, 42313.28it/s]\n",
      "100%|██████████| 46/46 [00:00<00:00, 250568.81it/s]\n"
     ]
    },
    {
     "name": "stdout",
     "output_type": "stream",
     "text": [
      "matched trials number: 6\n"
     ]
    },
    {
     "name": "stderr",
     "output_type": "stream",
     "text": [
      "100%|██████████| 6/6 [00:04<00:00,  1.23it/s]\n"
     ]
    },
    {
     "name": "stdout",
     "output_type": "stream",
     "text": [
      "patient No. 24\n"
     ]
    },
    {
     "name": "stderr",
     "output_type": "stream",
     "text": [
      "100%|██████████| 8/8 [00:00<00:00, 16093.25it/s]\n",
      "100%|██████████| 46/46 [00:00<00:00, 109004.51it/s]\n"
     ]
    },
    {
     "name": "stdout",
     "output_type": "stream",
     "text": [
      "matched trials number: 37\n"
     ]
    },
    {
     "name": "stderr",
     "output_type": "stream",
     "text": [
      "100%|██████████| 37/37 [00:07<00:00,  5.15it/s]\n"
     ]
    },
    {
     "name": "stdout",
     "output_type": "stream",
     "text": [
      "patient No. 25\n"
     ]
    },
    {
     "name": "stderr",
     "output_type": "stream",
     "text": [
      "100%|██████████| 8/8 [00:00<00:00, 104530.94it/s]\n",
      "100%|██████████| 46/46 [00:00<00:00, 142075.10it/s]\n"
     ]
    },
    {
     "name": "stdout",
     "output_type": "stream",
     "text": [
      "matched trials number: 52\n"
     ]
    },
    {
     "name": "stderr",
     "output_type": "stream",
     "text": [
      "100%|██████████| 52/52 [00:08<00:00,  6.26it/s]\n"
     ]
    },
    {
     "name": "stdout",
     "output_type": "stream",
     "text": [
      "patient No. 26\n"
     ]
    },
    {
     "name": "stderr",
     "output_type": "stream",
     "text": [
      "100%|██████████| 8/8 [00:00<00:00, 85816.96it/s]\n",
      "100%|██████████| 46/46 [00:00<00:00, 181162.43it/s]\n"
     ]
    },
    {
     "name": "stdout",
     "output_type": "stream",
     "text": [
      "matched trials number: 47\n"
     ]
    },
    {
     "name": "stderr",
     "output_type": "stream",
     "text": [
      "100%|██████████| 47/47 [00:07<00:00,  5.91it/s]\n"
     ]
    },
    {
     "name": "stdout",
     "output_type": "stream",
     "text": [
      "patient No. 27\n"
     ]
    },
    {
     "name": "stderr",
     "output_type": "stream",
     "text": [
      "100%|██████████| 8/8 [00:00<00:00, 104530.94it/s]\n",
      "100%|██████████| 46/46 [00:00<00:00, 281661.29it/s]\n"
     ]
    },
    {
     "name": "stdout",
     "output_type": "stream",
     "text": [
      "matched trials number: 9\n"
     ]
    },
    {
     "name": "stderr",
     "output_type": "stream",
     "text": [
      "100%|██████████| 9/9 [00:05<00:00,  1.75it/s]\n"
     ]
    },
    {
     "name": "stdout",
     "output_type": "stream",
     "text": [
      "patient No. 28\n"
     ]
    },
    {
     "name": "stderr",
     "output_type": "stream",
     "text": [
      "100%|██████████| 8/8 [00:00<00:00, 95596.67it/s]\n",
      "100%|██████████| 46/46 [00:00<00:00, 240271.46it/s]\n"
     ]
    },
    {
     "name": "stdout",
     "output_type": "stream",
     "text": [
      "matched trials number: 37\n"
     ]
    },
    {
     "name": "stderr",
     "output_type": "stream",
     "text": [
      "100%|██████████| 37/37 [00:07<00:00,  5.15it/s]\n"
     ]
    },
    {
     "name": "stdout",
     "output_type": "stream",
     "text": [
      "patient No. 29\n"
     ]
    },
    {
     "name": "stderr",
     "output_type": "stream",
     "text": [
      "100%|██████████| 8/8 [00:00<00:00, 88301.14it/s]\n",
      "100%|██████████| 46/46 [00:00<00:00, 247039.67it/s]\n"
     ]
    },
    {
     "name": "stdout",
     "output_type": "stream",
     "text": [
      "matched trials number: 8\n"
     ]
    },
    {
     "name": "stderr",
     "output_type": "stream",
     "text": [
      "100%|██████████| 8/8 [00:05<00:00,  1.59it/s]\n"
     ]
    },
    {
     "name": "stdout",
     "output_type": "stream",
     "text": [
      "patient No. 30\n"
     ]
    },
    {
     "name": "stderr",
     "output_type": "stream",
     "text": [
      "100%|██████████| 8/8 [00:00<00:00, 16668.87it/s]\n",
      "100%|██████████| 46/46 [00:00<00:00, 223049.69it/s]\n"
     ]
    },
    {
     "name": "stdout",
     "output_type": "stream",
     "text": [
      "matched trials number: 37\n"
     ]
    },
    {
     "name": "stderr",
     "output_type": "stream",
     "text": [
      "100%|██████████| 37/37 [00:07<00:00,  5.18it/s]\n"
     ]
    },
    {
     "name": "stdout",
     "output_type": "stream",
     "text": [
      "patient No. 31\n"
     ]
    },
    {
     "name": "stderr",
     "output_type": "stream",
     "text": [
      "100%|██████████| 8/8 [00:00<00:00, 76260.07it/s]\n",
      "100%|██████████| 46/46 [00:00<00:00, 202879.06it/s]\n"
     ]
    },
    {
     "name": "stdout",
     "output_type": "stream",
     "text": [
      "matched trials number: 31\n"
     ]
    },
    {
     "name": "stderr",
     "output_type": "stream",
     "text": [
      "100%|██████████| 31/31 [00:06<00:00,  4.59it/s]\n"
     ]
    },
    {
     "name": "stdout",
     "output_type": "stream",
     "text": [
      "patient No. 32\n"
     ]
    },
    {
     "name": "stderr",
     "output_type": "stream",
     "text": [
      "100%|██████████| 8/8 [00:00<00:00, 91428.97it/s]\n",
      "100%|██████████| 46/46 [00:00<00:00, 180315.87it/s]\n"
     ]
    },
    {
     "name": "stdout",
     "output_type": "stream",
     "text": [
      "matched trials number: 47\n"
     ]
    },
    {
     "name": "stderr",
     "output_type": "stream",
     "text": [
      "100%|██████████| 47/47 [00:07<00:00,  6.09it/s]\n"
     ]
    },
    {
     "name": "stdout",
     "output_type": "stream",
     "text": [
      "patient No. 33\n"
     ]
    },
    {
     "name": "stderr",
     "output_type": "stream",
     "text": [
      "100%|██████████| 8/8 [00:00<00:00, 108240.10it/s]\n",
      "100%|██████████| 46/46 [00:00<00:00, 219247.71it/s]\n"
     ]
    },
    {
     "name": "stdout",
     "output_type": "stream",
     "text": [
      "matched trials number: 8\n"
     ]
    },
    {
     "name": "stderr",
     "output_type": "stream",
     "text": [
      "100%|██████████| 8/8 [00:05<00:00,  1.58it/s]\n"
     ]
    }
   ],
   "execution_count": 22
  },
  {
   "metadata": {
    "ExecuteTime": {
     "end_time": "2025-07-15T06:53:48.157583Z",
     "start_time": "2025-07-15T06:53:48.155279Z"
    }
   },
   "cell_type": "code",
   "source": "",
   "id": "5f1232f8f6e32942",
   "outputs": [],
   "execution_count": null
  },
  {
   "metadata": {
    "ExecuteTime": {
     "end_time": "2025-07-15T06:53:48.196550Z",
     "start_time": "2025-07-15T06:53:48.194300Z"
    }
   },
   "cell_type": "code",
   "source": "",
   "id": "8176cd419870cc65",
   "outputs": [],
   "execution_count": null
  }
 ],
 "metadata": {
  "kernelspec": {
   "display_name": "openai",
   "language": "python",
   "name": "openai"
  },
  "language_info": {
   "codemirror_mode": {
    "name": "ipython",
    "version": 2
   },
   "file_extension": ".py",
   "mimetype": "text/x-python",
   "name": "python",
   "nbconvert_exporter": "python",
   "pygments_lexer": "ipython2",
   "version": "2.7.6"
  }
 },
 "nbformat": 4,
 "nbformat_minor": 5
}
